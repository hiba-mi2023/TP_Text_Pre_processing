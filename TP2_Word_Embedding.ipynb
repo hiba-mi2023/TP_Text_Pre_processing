{
  "nbformat": 4,
  "nbformat_minor": 0,
  "metadata": {
    "colab": {
      "provenance": []
    },
    "kernelspec": {
      "name": "python3",
      "display_name": "Python 3"
    },
    "language_info": {
      "name": "python"
    }
  },
  "cells": [
    {
      "cell_type": "code",
      "source": [
        "from gensim.models import Word2Vec\n",
        "from nltk.tokenize import word_tokenize\n",
        "import string\n"
      ],
      "metadata": {
        "id": "KUS25HW4O8LR"
      },
      "execution_count": 14,
      "outputs": []
    },
    {
      "cell_type": "code",
      "source": [
        "# Texte fourni\n",
        "text = \"\"\"Morocco and Marrakech: A Tapestry of Tradition and Modernity Morocco, located at the crossroads of Europe and Africa, is a country drenched in history, mystery, and cultural richness. A testament to the ancient civilizations that once flourished here, this North African kingdom boasts a unique blend of Arab, Berber, and European influences. At the heart of Morocco's rich tapestry lies Marrakech, one of its four imperial cities and a vibrant epicenter of tradition and modernity. Geographical Significance Morocco is bordered by the Atlantic Ocean to the west, the Mediterranean Sea to the north, Algeria to the east and southeast, and the vast Sahara desert to the south. Its strategic location has historically made it a sought-after territory and a melting pot of cultures, religions, and trade routes. Marrakech: The Red City Marrakech, often referred to as \"The Red City\" due to its distinctive red-hued buildings, stands against the backdrop of the snow-capped Atlas Mountains. Established in the 11th century, it has remained a crucial political, economic, and cultural center of Morocco. Journey through the Medina Marrakech's old town, the Medina, is a UNESCO World Heritage site and a labyrinthine maze of narrow alleys, bustling souks, and historical landmarks. The Djemaa el-Fna Square lies at the heart of the Medina and comes alive every evening with storytellers, musicians, snake charmers, and food stalls offering tantalizing Moroccan delicacies. Palaces and Gardens The city is also home to grand palaces like the Bahia Palace, showcasing intricate Islamic architecture, and the Saadian Tombs, remnants of the Saadian dynasty. The Majorelle Garden, restored by the fashion designer Yves Saint Laurent, is a tranquil oasis of cacti, palm trees, and cobalt blue accents. Modern Marrakech While tradition and history permeate Marrakech, the city is not averse to the modern world. Gueliz, the new town, is brimming with contemporary art galleries, stylish cafes, and chic boutiques, offering a stark contrast to the ancient Medina. Moroccan Cuisine No journey through Morocco and Marrakech would be complete without indulging in the local cuisine. Tagines, couscous, and pastilla are just a few of the many dishes that combine a plethora of flavors and spices like saffron, cumin, and mint. Paired with Moroccan mint tea, the culinary experience is truly unparalleled. In Conclusion Morocco, with Marrakech at its heart, offers travelers an unparalleled journey through time. The convergence of history, culture, architecture, and gastronomy makes it an enthralling destination for those seeking both adventure and reflection. As the Moroccan proverb goes, \"He who does not travel does not know the value of men.\" In the case of Morocco and Marrakech, it's not just the value of men, but also the value of time, tradition, and tales that have spanned centuries.\"\"\"\n"
      ],
      "metadata": {
        "id": "6mYJ_94YPJ24"
      },
      "execution_count": 15,
      "outputs": []
    },
    {
      "cell_type": "code",
      "source": [
        "# Prétraitement du texte\n",
        "def preprocess_text(text):\n",
        "    tokens = word_tokenize(text.lower())  # Tokenisation et conversion en minuscules\n",
        "    tokens = [word.strip(string.punctuation) for word in tokens if word.isalnum()]  # Suppression de la ponctuation\n",
        "    return tokens"
      ],
      "metadata": {
        "id": "HwzaE3IDPU2b"
      },
      "execution_count": 16,
      "outputs": []
    },
    {
      "cell_type": "code",
      "source": [
        "import nltk\n",
        "nltk.download('punkt')\n"
      ],
      "metadata": {
        "colab": {
          "base_uri": "https://localhost:8080/"
        },
        "id": "74iWOcLZP7SO",
        "outputId": "ff52c153-5023-4468-bf8b-7ac3416e9e2d"
      },
      "execution_count": 18,
      "outputs": [
        {
          "output_type": "stream",
          "name": "stderr",
          "text": [
            "[nltk_data] Downloading package punkt to /root/nltk_data...\n",
            "[nltk_data]   Unzipping tokenizers/punkt.zip.\n"
          ]
        },
        {
          "output_type": "execute_result",
          "data": {
            "text/plain": [
              "True"
            ]
          },
          "metadata": {},
          "execution_count": 18
        }
      ]
    },
    {
      "cell_type": "code",
      "source": [
        "# Entraînement du modèle Word2Vec\n",
        "tokens = preprocess_text(text)\n",
        "model = Word2Vec([tokens], vector_size=100, window=5, min_count=1, sg=1)"
      ],
      "metadata": {
        "id": "3w2TGAQdQGbA"
      },
      "execution_count": 19,
      "outputs": []
    },
    {
      "cell_type": "code",
      "source": [
        "# 1. Extraire la représentation vectorielle d'un mot\n",
        "def get_word_vector(word):\n",
        "    try:\n",
        "        return model.wv[word]\n",
        "    except KeyError:\n",
        "        return None"
      ],
      "metadata": {
        "id": "aFaT-q_SQPkN"
      },
      "execution_count": 20,
      "outputs": []
    },
    {
      "cell_type": "code",
      "source": [
        "# 2. Calculer la similarité entre deux mots\n",
        "def calculate_similarity(word1, word2):\n",
        "    try:\n",
        "        return model.wv.similarity(word1, word2)\n",
        "    except KeyError:\n",
        "        return None"
      ],
      "metadata": {
        "id": "mLVVUPjzQSfI"
      },
      "execution_count": 21,
      "outputs": []
    },
    {
      "cell_type": "code",
      "source": [
        "# 3. Extraire les mots contextuels (les plus similaires) pour un mot central donné\n",
        "def get_contextual_words(word, topn=5):\n",
        "    try:\n",
        "        return model.wv.similar_by_word(word, topn=topn)\n",
        "    except KeyError:\n",
        "        return None"
      ],
      "metadata": {
        "id": "F6zXFkGdQZyP"
      },
      "execution_count": 22,
      "outputs": []
    },
    {
      "cell_type": "code",
      "source": [
        "# Tests\n",
        "print(\"Vector representation of 'morocco':\", get_word_vector('morocco'))\n",
        "print(\"Similarity between 'morocco' and 'marrakech':\", calculate_similarity('morocco', 'marrakech'))\n",
        "print(\"Contextual words for 'morocco':\", get_contextual_words('morocco'))"
      ],
      "metadata": {
        "colab": {
          "base_uri": "https://localhost:8080/"
        },
        "id": "k0OAQVYPQcTl",
        "outputId": "1c8df5e2-44fe-4201-f2a1-26be4b13d089"
      },
      "execution_count": 23,
      "outputs": [
        {
          "output_type": "stream",
          "name": "stdout",
          "text": [
            "Vector representation of 'morocco': [ 0.00698757 -0.00379723 -0.00111075  0.00142059  0.00041544 -0.00059416\n",
            "  0.00630459  0.0022974  -0.00373461 -0.002452    0.00563353  0.00074149\n",
            " -0.00134241  0.00955453 -0.0051443  -0.00201176  0.00952368  0.00513597\n",
            "  0.00107653 -0.0108429   0.00082889 -0.00194153  0.0096291   0.0010088\n",
            "  0.00168669  0.00274885 -0.00214376 -0.00436908 -0.00094133 -0.0013623\n",
            "  0.0080155   0.00916164 -0.00025513  0.00222946 -0.00704472  0.00297215\n",
            " -0.00625622 -0.00930791 -0.00663576 -0.01007229  0.00718786 -0.00727678\n",
            "  0.00830609 -0.00722974  0.0046352   0.00905563 -0.0077995  -0.01014792\n",
            " -0.00394955 -0.00237821  0.00084718 -0.00913716 -0.00804226  0.00236676\n",
            " -0.00889908 -0.00791148 -0.00267494 -0.00877216 -0.00769491 -0.00794046\n",
            " -0.00014326 -0.00410121  0.00710644  0.00087337 -0.00493624  0.0067096\n",
            " -0.0050094  -0.0029724  -0.00867991 -0.00238689 -0.00224996  0.00714261\n",
            " -0.00168164  0.00480713  0.00807711 -0.00668467  0.00484847  0.00591633\n",
            " -0.00411857  0.00719797  0.00532842 -0.00582039 -0.00802124  0.00382575\n",
            " -0.00224961 -0.00627541  0.00992597 -0.00346069 -0.00525861 -0.0006357\n",
            " -0.00150298  0.00111717 -0.00347864 -0.00043084  0.00132889  0.00206303\n",
            "  0.00977643 -0.0060965  -0.00115776  0.00513435]\n",
            "Similarity between 'morocco' and 'marrakech': 0.118405074\n",
            "Contextual words for 'morocco': [('offering', 0.40134522318840027), ('food', 0.3211084306240082), ('lies', 0.3086364269256592), ('time', 0.30328115820884705), ('chic', 0.28386637568473816)]\n"
          ]
        }
      ]
    }
  ]
}